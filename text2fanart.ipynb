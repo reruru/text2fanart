{
  "nbformat": 4,
  "nbformat_minor": 0,
  "metadata": {
    "colab": {
      "provenance": [],
      "include_colab_link": true
    },
    "kernelspec": {
      "name": "python3",
      "display_name": "Python 3"
    },
    "language_info": {
      "name": "python"
    }
  },
  "cells": [
    {
      "cell_type": "markdown",
      "metadata": {
        "id": "view-in-github",
        "colab_type": "text"
      },
      "source": [
        "<a href=\"https://colab.research.google.com/github/reruru/text2fanart/blob/main/text2fanart.ipynb\" target=\"_parent\"><img src=\"https://colab.research.google.com/assets/colab-badge.svg\" alt=\"Open In Colab\"/></a>"
      ]
    },
    {
      "cell_type": "code",
      "execution_count": null,
      "metadata": {
        "cellView": "form",
        "id": "g3sKRiLks43E"
      },
      "outputs": [],
      "source": [
        "#@title Get Ready\n",
        "!pip install torch --quiet\n",
        "!pip install torchvision --quiet\n",
        "!pip install transformers --quiet\n",
        "!pip install pillow --quiet\n",
        "!pip install googletrans==3.1.0a0 --quiet\n",
        "!pip install tqdm --quiet\n",
        "\n",
        "!wget isd-fanart.reruru.com/text2fanart -O id2emb.pkl\n",
        "\n",
        "import numpy as np\n",
        "import pickle\n",
        "import torch\n",
        "from torchvision.transforms.functional import pil_to_tensor\n",
        "from transformers import CLIPProcessor, CLIPModel, CLIPTokenizerFast\n",
        "from tqdm import tqdm\n",
        "\n",
        "from googletrans import Translator\n",
        "translator = Translator()\n",
        "\n",
        "device = torch.device(\"cuda\" if torch.cuda.is_available() else \"cpu\")\n",
        "model = CLIPModel.from_pretrained(\"openai/clip-vit-large-patch14\")\n",
        "tokenizer = CLIPTokenizerFast.from_pretrained(\"openai/clip-vit-large-patch14\")\n",
        "\n",
        "with open('id2emb.pkl', 'rb') as f:\n",
        "    id2emb = pickle.load(f)"
      ]
    },
    {
      "cell_type": "code",
      "source": [
        "#@title 이세돌 팬아트 텍스트 검색기\n",
        "\n",
        "query = input(\"query:\")\n",
        "query = translator.translate(query, dest='en').text\n",
        "print(query)\n",
        "txt = tokenizer(query, return_tensors='pt')\n",
        "txt_emb = model.get_text_features(**txt)\n",
        "\n",
        "ret = []\n",
        "txt_emb = txt_emb.squeeze()\n",
        "txt_norm = torch.norm(txt_emb)\n",
        "for id in tqdm(id2emb.keys()):\n",
        "    img_emb_list = id2emb[id]\n",
        "    img_emb_list = torch.tensor(img_emb_list).squeeze()\n",
        "\n",
        "    if len(img_emb_list.shape) == 1:\n",
        "        if img_emb_list.shape[0] == 0:\n",
        "            continue\n",
        "        img_emb_list = img_emb_list.unsqueeze(0)\n",
        "\n",
        "    for img_emb in img_emb_list:\n",
        "        score = torch.dot(txt_emb, img_emb)\n",
        "        #score /= txt_norm * torch.norm(img_emb)\n",
        "        ret.append((score, id))\n",
        "\n",
        "ret = [x[1] for x in sorted(ret)[::-1]]\n",
        "ret = list(dict.fromkeys(ret))\n",
        "\n",
        "num = int(input(\"num:\"))\n",
        "for i in range(num):\n",
        "    !echo https://cafe.naver.com/steamindiegame/{ret[i]}"
      ],
      "metadata": {
        "cellView": "form",
        "id": "zKr6mHo9tdVn"
      },
      "execution_count": null,
      "outputs": []
    }
  ]
}